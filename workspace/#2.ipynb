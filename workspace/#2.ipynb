{
 "cells": [
  {
   "cell_type": "code",
   "execution_count": 41,
   "metadata": {},
   "outputs": [],
   "source": [
    "import fxcmpy\n",
    "import pandas as pd\n",
    "import datetime as dt\n",
    "import json\n",
    "import ta\n",
    "import warnings"
   ]
  },
  {
   "cell_type": "code",
   "execution_count": 42,
   "metadata": {},
   "outputs": [
    {
     "name": "stdout",
     "output_type": "stream",
     "text": [
      "Connect Successful!\n"
     ]
    }
   ],
   "source": [
    "con = fxcmpy.fxcmpy(access_token=\"d808da394895605e414394e79c1a3c9ffafad862\", log_level='error', server='demo', log_file='log.txt')\n",
    "\n",
    "# return connection\n",
    "if con.is_connected():\n",
    "    print(\"Connect Successful!\")"
   ]
  },
  {
   "cell_type": "code",
   "execution_count": 3,
   "metadata": {},
   "outputs": [],
   "source": [
    "get_data = con.get_candles(\"EUR/USD\", period='m5', number=50)[['bidopen','bidclose','bidhigh','bidlow']]\n",
    "get_data.rename(columns = {'bidopen':'Open', 'bidhigh':'High', 'bidlow': 'Low', 'bidclose': 'Close'}, inplace = True)"
   ]
  },
  {
   "cell_type": "code",
   "execution_count": 30,
   "metadata": {},
   "outputs": [],
   "source": [
    "res_ta = ta.trend.MACD(get_data['Close'], window_fast=12, window_slow=26 ,window_sign=9) # signal line is base and macd line will crossover\n",
    "macd_line, signal_line = res_ta.macd()[-1:].values[0], res_ta.macd_signal()[-1:].values[0]"
   ]
  },
  {
   "cell_type": "code",
   "execution_count": 31,
   "metadata": {},
   "outputs": [
    {
     "data": {
      "text/plain": [
       "('BUY', 'arrow-up')"
      ]
     },
     "execution_count": 31,
     "metadata": {},
     "output_type": "execute_result"
    }
   ],
   "source": [
    "if macd_line > signal_line:\n",
    "    signal, arrow_type = \"BUY\", \"arrow-up\"\n",
    "elif macd_line < signal_line:\n",
    "    signal, arrow_type = \"SELL\", \"arrow-down\"\n",
    "else:\n",
    "    signal, arrow_type = \"NEUTRAL\", \"non-arrow\"\n",
    "\n"
   ]
  },
  {
   "cell_type": "code",
   "execution_count": 35,
   "metadata": {},
   "outputs": [],
   "source": [
    "res_ta = ta.momentum.RSIIndicator(get_data['Close'][-14:], window=14)"
   ]
  },
  {
   "cell_type": "code",
   "execution_count": 36,
   "metadata": {},
   "outputs": [
    {
     "data": {
      "text/plain": [
       "date\n",
       "2022-05-03 10:40:00          NaN\n",
       "2022-05-03 10:45:00          NaN\n",
       "2022-05-03 10:50:00          NaN\n",
       "2022-05-03 10:55:00          NaN\n",
       "2022-05-03 11:00:00          NaN\n",
       "2022-05-03 11:05:00          NaN\n",
       "2022-05-03 11:10:00          NaN\n",
       "2022-05-03 11:15:00          NaN\n",
       "2022-05-03 11:20:00          NaN\n",
       "2022-05-03 11:25:00          NaN\n",
       "2022-05-03 11:30:00          NaN\n",
       "2022-05-03 11:35:00          NaN\n",
       "2022-05-03 11:40:00          NaN\n",
       "2022-05-03 11:45:00    65.117649\n",
       "Name: rsi, dtype: float64"
      ]
     },
     "execution_count": 36,
     "metadata": {},
     "output_type": "execute_result"
    }
   ],
   "source": [
    "res_ta.rsi()"
   ]
  },
  {
   "cell_type": "code",
   "execution_count": 14,
   "metadata": {},
   "outputs": [],
   "source": [
    "indicators_signal = {\n",
    "    \"1\": [\n",
    "        {\n",
    "            \"timeframe\": \"10Min\",\n",
    "            \"value\": 1.05446,\n",
    "            \"signal\": \"SELL\",\n",
    "            \"datetime\": 1651592563000,\n",
    "            \"type\": \"trend\"\n",
    "        },\n",
    "        {\n",
    "            \"timeframe\": \"1H\",\n",
    "            \"value\": 1.05213,\n",
    "            \"signal\": \"BUY\",\n",
    "            \"datetime\": 1651592563000,\n",
    "            \"type\": \"trend\"\n",
    "        }\n",
    "    ],\n",
    "    \"2\": [\n",
    "        {\n",
    "            \"timeframe\": \"10Min\",\n",
    "            \"arrowtype\": \"arrow-down\",\n",
    "            \"value\": 0.00009,\n",
    "            \"signal\": \"SELL\",\n",
    "            \"datetime\": 1651592563000,\n",
    "            \"type\": \"trend\"\n",
    "        },\n",
    "        {\n",
    "            \"timeframe\": \"1H\",\n",
    "            \"arrowtype\": \"arrow-up\",\n",
    "            \"value\": 0.00058,\n",
    "            \"signal\": \"BUY\",\n",
    "            \"datetime\": 1651592563000,\n",
    "            \"type\": \"trend\"\n",
    "        }\n",
    "    ],\n",
    "    \"3\": [\n",
    "        {\n",
    "            \"timeframe\": \"10Min\",\n",
    "            \"value\": 32.5403,\n",
    "            \"signal\": \"NEUTRAL\",\n",
    "            \"datetime\": 1651592563000,\n",
    "            \"type\": \"momentum\"\n",
    "        },\n",
    "        {\n",
    "            \"timeframe\": \"1H\",\n",
    "            \"value\": 54.35956,\n",
    "            \"signal\": \"NEUTRAL\",\n",
    "            \"datetime\": 1651592564000,\n",
    "            \"type\": \"momentum\"\n",
    "        }\n",
    "    ]\n",
    "}"
   ]
  },
  {
   "cell_type": "code",
   "execution_count": 49,
   "metadata": {},
   "outputs": [],
   "source": [
    "return_summary = {}\n",
    "return_summary['timeframe'] = {}\n",
    "return_summary['all'] = {}\n",
    "return_summary['summary'] = {}\n",
    "return_summary['all']['SELL'], return_summary['all']['BUY'] = 0, 0\n",
    "\n",
    "return_summary['trend'] = {}\n",
    "return_summary['trend']['BUY'] = 0\n",
    "return_summary['trend']['SELL'] = 0\n",
    "return_summary['trend']['NEUTRAL'] = 0\n",
    "\n",
    "return_summary['momentum'] = {}\n",
    "return_summary['momentum']['OVERBOUGHT'] = 0\n",
    "return_summary['momentum']['OVERSOLD'] = 0\n",
    "return_summary['momentum']['NEUTRAL'] = 0\n",
    "for indicator in indicators_signal.keys():\n",
    "\n",
    "    for tf in indicators_signal[indicator]:\n",
    "\n",
    "        if tf['timeframe'] not in return_summary['timeframe']:\n",
    "            return_summary['timeframe'][tf['timeframe']] = {}\n",
    "            # initial trend \n",
    "            return_summary['timeframe'][tf['timeframe']]['trend'] = {}\n",
    "            return_summary['timeframe'][tf['timeframe']]['trend']['BUY'] = 0\n",
    "            return_summary['timeframe'][tf['timeframe']]['trend']['SELL'] = 0\n",
    "            return_summary['timeframe'][tf['timeframe']]['trend']['NEUTRAL'] = 0\n",
    "            # initial momentum\n",
    "            return_summary['timeframe'][tf['timeframe']]['momentum'] = {}\n",
    "            return_summary['timeframe'][tf['timeframe']]['momentum']['OVERBOUGHT'] = 0\n",
    "            return_summary['timeframe'][tf['timeframe']]['momentum']['OVERSOLD'] = 0\n",
    "            return_summary['timeframe'][tf['timeframe']]['momentum']['NEUTRAL'] = 0\n",
    "\n",
    "        if tf['type'] == 'trend':\n",
    "            return_summary['timeframe'][tf['timeframe']]['trend'][tf['signal']] += 1\n",
    "            return_summary['trend'][tf['signal']] += 1\n",
    "        elif tf['type'] == 'momentum':\n",
    "            return_summary['timeframe'][tf['timeframe']]['momentum'][tf['signal']] += 1\n",
    "            return_summary['momentum'][tf['signal']] += 1\n",
    "\n",
    "        if tf['signal'] in ['BUY', 'OVERSOLD']: return_summary['all']['BUY'] += 1\n",
    "        elif tf['signal'] in ['SELL', 'OVERBOUGHT']: return_summary['all']['SELL'] += 1\n",
    "    \n",
    "if (return_summary['all']['BUY'] + return_summary['all']['SELL']) != 0:\n",
    "    return_summary['summary']['BUY'] = return_summary['all']['BUY'] * 100 / (return_summary['all']['BUY'] + return_summary['all']['SELL'])\n",
    "    return_summary['summary']['SELL'] = return_summary['all']['SELL'] * 100 / (return_summary['all']['BUY'] + return_summary['all']['SELL'])\n",
    "else :\n",
    "    return_summary['summary']['BUY'] = 0\n",
    "    return_summary['summary']['SELL'] = 0"
   ]
  },
  {
   "cell_type": "code",
   "execution_count": 50,
   "metadata": {},
   "outputs": [
    {
     "data": {
      "text/plain": [
       "{'timeframe': {'10Min': {'trend': {'BUY': 0, 'SELL': 2, 'NEUTRAL': 0},\n",
       "   'momentum': {'OVERBOUGHT': 0, 'OVERSOLD': 0, 'NEUTRAL': 1}},\n",
       "  '1H': {'trend': {'BUY': 2, 'SELL': 0, 'NEUTRAL': 0},\n",
       "   'momentum': {'OVERBOUGHT': 0, 'OVERSOLD': 0, 'NEUTRAL': 1}}},\n",
       " 'all': {'SELL': 2, 'BUY': 2},\n",
       " 'summary': {'BUY': 50.0, 'SELL': 50.0},\n",
       " 'trend': {'BUY': 2, 'SELL': 2, 'NEUTRAL': 0},\n",
       " 'momentum': {'OVERBOUGHT': 0, 'OVERSOLD': 0, 'NEUTRAL': 2}}"
      ]
     },
     "execution_count": 50,
     "metadata": {},
     "output_type": "execute_result"
    }
   ],
   "source": [
    "return_summary"
   ]
  },
  {
   "cell_type": "code",
   "execution_count": 29,
   "metadata": {},
   "outputs": [],
   "source": [
    "high, low, close = get_data['High'], get_data['Low'], get_data['Close']\n"
   ]
  },
  {
   "cell_type": "code",
   "execution_count": 23,
   "metadata": {},
   "outputs": [
    {
     "data": {
      "text/plain": [
       "1.0540171746493372"
      ]
     },
     "execution_count": 23,
     "metadata": {},
     "output_type": "execute_result"
    }
   ],
   "source": [
    "\n",
    "res_ta = ta.trend.PSARIndicator(high, low, close, step=float(0.02), max_step=float(0.2))\n",
    "ta_value = res_ta.psar()[-1:].values[0]\n",
    "ta_value"
   ]
  },
  {
   "cell_type": "code",
   "execution_count": 19,
   "metadata": {},
   "outputs": [],
   "source": [
    "warnings.filterwarnings(\"ignore\")"
   ]
  },
  {
   "cell_type": "code",
   "execution_count": 37,
   "metadata": {},
   "outputs": [],
   "source": [
    "res_ta = ta.trend.CCIIndicator(high, low, close, window=int(20), constant=float(0.015))\n",
    "ta_value = res_ta.cci()[-1:].values[0]"
   ]
  },
  {
   "cell_type": "code",
   "execution_count": 39,
   "metadata": {},
   "outputs": [],
   "source": [
    "# res_ta.cci()"
   ]
  },
  {
   "cell_type": "code",
   "execution_count": 40,
   "metadata": {},
   "outputs": [],
   "source": [
    "res_ta = ta.momentum.StochasticOscillator(high, low, close, window=int(14), smooth_window=int(3))"
   ]
  },
  {
   "cell_type": "code",
   "execution_count": 44,
   "metadata": {},
   "outputs": [
    {
     "data": {
      "text/plain": [
       "(date\n",
       " 2022-05-04 15:20:00    91.950464\n",
       " Name: stoch_k, dtype: float64,\n",
       " date\n",
       " 2022-05-04 15:20:00    93.014905\n",
       " Name: stoch_k_signal, dtype: float64)"
      ]
     },
     "execution_count": 44,
     "metadata": {},
     "output_type": "execute_result"
    }
   ],
   "source": [
    "indicator_value, indicators_signal = res_ta.stoch()[-1:], res_ta.stoch_signal()[-1:]\n",
    "indicator_value, indicators_signal"
   ]
  },
  {
   "cell_type": "code",
   "execution_count": 48,
   "metadata": {},
   "outputs": [
    {
     "data": {
      "text/plain": [
       "-8.049535603719619"
      ]
     },
     "execution_count": 48,
     "metadata": {},
     "output_type": "execute_result"
    }
   ],
   "source": [
    "res_ta = ta.momentum.WilliamsRIndicator(high, low, close, lbp=14)\n",
    "ta_value = res_ta.williams_r()[-1:].values[0]\n",
    "ta_value"
   ]
  },
  {
   "cell_type": "code",
   "execution_count": 3,
   "metadata": {},
   "outputs": [
    {
     "name": "stdout",
     "output_type": "stream",
     "text": [
      "W%R calculation error on > \n"
     ]
    }
   ],
   "source": [
    "print(\"W%R calculation error on > \")\n",
    "import math"
   ]
  },
  {
   "cell_type": "code",
   "execution_count": 14,
   "metadata": {},
   "outputs": [],
   "source": [
    "start = dt.datetime(2022, 5, 1)\n",
    "end = dt.datetime(2022, 5, 2)\n",
    "data = con.get_candles(\"EUR/USD\", period='m5', start=start, end=end)[['bidopen','bidclose','bidhigh','bidlow']]"
   ]
  },
  {
   "cell_type": "code",
   "execution_count": 17,
   "metadata": {},
   "outputs": [
    {
     "data": {
      "text/plain": [
       "array([1651439100000000000, 1651439400000000000, 1651439700000000000,\n",
       "       1651440000000000000, 1651440300000000000, 1651440600000000000,\n",
       "       1651440900000000000, 1651441200000000000, 1651442100000000000,\n",
       "       1651442400000000000, 1651442700000000000, 1651443000000000000,\n",
       "       1651443300000000000, 1651443600000000000, 1651443900000000000,\n",
       "       1651444200000000000, 1651444500000000000, 1651444800000000000,\n",
       "       1651445100000000000, 1651445400000000000, 1651446000000000000,\n",
       "       1651446300000000000, 1651446600000000000, 1651446900000000000,\n",
       "       1651447200000000000, 1651447500000000000, 1651447800000000000,\n",
       "       1651448100000000000, 1651448400000000000, 1651448700000000000,\n",
       "       1651449000000000000, 1651449300000000000, 1651449600000000000])"
      ]
     },
     "execution_count": 17,
     "metadata": {},
     "output_type": "execute_result"
    }
   ],
   "source": [
    "data.index.view(int) ## - 162000, not more than 172800"
   ]
  },
  {
   "cell_type": "code",
   "execution_count": 23,
   "metadata": {},
   "outputs": [
    {
     "data": {
      "text/plain": [
       "False"
      ]
     },
     "execution_count": 23,
     "metadata": {},
     "output_type": "execute_result"
    }
   ],
   "source": [
    "import datetime as dt\n",
    "\n",
    "is_open = (math.floor(dt.datetime.utcnow().timestamp()) - 162000) % 604800 >= 172800\n",
    "is_open"
   ]
  },
  {
   "cell_type": "code",
   "execution_count": 9,
   "metadata": {},
   "outputs": [
    {
     "ename": "IndentationError",
     "evalue": "unindent does not match any outer indentation level (<tokenize>, line 18)",
     "output_type": "error",
     "traceback": [
      "\u001b[0;36m  File \u001b[0;32m<tokenize>:18\u001b[0;36m\u001b[0m\n\u001b[0;31m    def multiple_replace(string, *key_values):\u001b[0m\n\u001b[0m    ^\u001b[0m\n\u001b[0;31mIndentationError\u001b[0m\u001b[0;31m:\u001b[0m unindent does not match any outer indentation level\n"
     ]
    }
   ],
   "source": [
    "import time\n",
    "import sys\n",
    "import requests as r\n",
    "from bs4 import BeautifulSoup as bs\n",
    "import html5lib\n",
    "import re\n",
    "import subprocess as s\n",
    "\n",
    "\n",
    "class Curr:\n",
    "\n",
    "\tdef multiple_replacer(*key_values):\n",
    "        replace_dict = dict(key_values)\n",
    "        replacement_function = lambda match: replace_dict[match.group(0)]\n",
    "        pattern = re.compile(\"|\".join([re.escape(k) for k, v in key_values]), re.M)\n",
    "        return lambda string: pattern.sub(replacement_function, string)\n",
    "        \n",
    "    def multiple_replace(string, *key_values):\n",
    "\t    return Curr.multiple_replacer(*key_values)(string)\n",
    "\n",
    "\tdef strength():\n",
    "\n",
    "\t\t#get the site and parse the html\n",
    "\t\tx = r.get(\"http://www.livecharts.co.uk/currency-strength.php\").text\n",
    "\n",
    "\t\tcur = bs(x, \"html5lib\")\n",
    "\n",
    "\t\t#Find all Currency by id\n",
    "\t\tpairs = [c for c in cur.find_all(id=\"map-innercontainer-symbol\")]\n",
    "\n",
    "\t\t#To be excluded\n",
    "\t\ty = str('style=\"background-image:none\"')\n",
    "\n",
    "\t\t#EURO CURRENCY index=0 or pair[0]\n",
    "\t\t#Finding the current level we need to loop through all levels\n",
    "\n",
    "\t\tlevels = [\n",
    "\t\t\t'map-innercontainer-strong3',\n",
    "\t\t\t'map-innercontainer-strong2',\n",
    "\t\t\t'map-innercontainer-strong1',\n",
    "\t\t\t'map-innercontainer-weak1',\n",
    "\t\t\t'map-innercontainer-weak2',\n",
    "\t\t\t'map-innercontainer-weak3',\n",
    "\t\t]\n",
    "\n",
    "\t\tlv = [l for l in cur.find_all(id=levels)]\n",
    "\n",
    "\t\tmine = lv\n",
    "\n",
    "\t\t# #Show out the results to the user\n",
    "\t\treplacements = (u\"div\", u\"\"),(u'id=\"map-innercontainer-',u\"\"),(u\"<\",\"\"),(u'style=\"background-image:none\"',u\"\"),(u'\">',\"\"),(u\"/\",u\"\"),(u\"\",u\"\"),(u\">\",u\"\"),(u'\"',u\"\")\n",
    "\n",
    "\t\t# print(f'Currency\\t\\tStrength\\n')\n",
    "\t\t# print(f'{pairs[0].text}\\t\\t\\t{Curr.multiple_replace(str(mine[0:6]), *replacements)}\\n')\n",
    "\t\t# print(f'{pairs[1].text}\\t\\t\\t\\t{Curr.multiple_replace(str(mine[6:12]), *replacements)}\\n')\n",
    "\t\t# print(f'{pairs[2].text}\\t\\t\\t\\t{Curr.multiple_replace(str(mine[12:18]), *replacements)}\\n')\n",
    "\t\t# print(f'{pairs[3].text}\\t\\t\\t\\t{Curr.multiple_replace(str(mine[18:24]), *replacements)}\\n')\n",
    "\t\t# print(f'{pairs[4].text}\\t\\t\\t\\t{Curr.multiple_replace(str(mine[24:30]), *replacements)}\\n')\n",
    "\t\t# print(f'{pairs[5].text}\\t\\t\\t\\t{Curr.multiple_replace(str(mine[30:36]), *replacements)}\\n')\n",
    "\t\t# print(f'{pairs[6].text}\\t\\t\\t\\t{Curr.multiple_replace(str(mine[36:42]), *replacements)}\\n')\n",
    "\t\t# print(f'{pairs[7].text}\\t\\t\\t\\t{Curr.multiple_replace(str(mine[42:48]), *replacements)}\\n')\n",
    "\t\t# print(f'{pairs[8].text}\\t\\t\\t\\t{Curr.multiple_replace(str(mine[48:54]), *replacements)}\\n')\n",
    "\t\t# print(f'{pairs[9].text}\\t\\t\\t\\t{Curr.multiple_replace(str(mine[54:60]), *replacements)}\\n')\n",
    "\n",
    "\n",
    "pairs, mine = Curr.strength()"
   ]
  },
  {
   "cell_type": "code",
   "execution_count": 40,
   "metadata": {},
   "outputs": [
    {
     "data": {
      "text/plain": [
       "{'EUR': 3,\n",
       " 'GBP': 4,\n",
       " 'USD': 2,\n",
       " 'AUD': 6,\n",
       " 'JPY': 1,\n",
       " 'CHF': 4,\n",
       " 'NZD': 4,\n",
       " 'CAD': 4,\n",
       " 'NOK': 3,\n",
       " 'DKK': 2}"
      ]
     },
     "execution_count": 40,
     "metadata": {},
     "output_type": "execute_result"
    }
   ],
   "source": [
    "import time\n",
    "import sys\n",
    "import requests as r\n",
    "from bs4 import BeautifulSoup as bs\n",
    "import html5lib\n",
    "import re\n",
    "import subprocess as s\n",
    "\n",
    "def multiple_replacer(*key_values):\n",
    "    replace_dict = dict(key_values)\n",
    "    replacement_function = lambda match: replace_dict[match.group(0)]\n",
    "    pattern = re.compile(\"|\".join([re.escape(k) for k, v in key_values]), re.M)\n",
    "    return lambda string: pattern.sub(replacement_function, string)\n",
    "        \n",
    "def multiple_replace(string, *key_values):\n",
    "\treturn multiple_replacer(*key_values)(string)\n",
    "\n",
    "def strength():\n",
    "\n",
    "\t#get the site and parse the html\n",
    "\tx = r.get(\"http://www.livecharts.co.uk/currency-strength.php\").text\n",
    "\n",
    "\tcur = bs(x, \"html5lib\")\n",
    "\n",
    "\t#Find all Currency by id\n",
    "\tpairs = [c for c in cur.find_all(id=\"map-innercontainer-symbol\")]\n",
    "\n",
    "\t#To be excluded\n",
    "\ty = str('style=\"background-image:none\"')\n",
    "\n",
    "\t#EURO CURRENCY index=0 or pair[0]\n",
    "\t#Finding the current level we need to loop through all levels\n",
    "\n",
    "\tlevels = [\n",
    "\t\t'map-innercontainer-strong3',\n",
    "\t\t'map-innercontainer-strong2',\n",
    "\t\t'map-innercontainer-strong1',\n",
    "\t\t'map-innercontainer-weak1',\n",
    "\t\t'map-innercontainer-weak2',\n",
    "\t\t'map-innercontainer-weak3',\n",
    "\t]\n",
    "\n",
    "\tlv = [l for l in cur.find_all(id=levels)]\n",
    "\n",
    "\tmine = lv\n",
    "\n",
    "\treplacements = (u\"div\", u\"\"),(u'id=\"map-innercontainer-',u\"\"),(u\"<\",\"\"),(u'style=\"background-image:none\"',u\"\"),(u'\">',\"\"),(u\"/\",u\"\"),(u\"\",u\"\"),(u\">\",u\"\"),(u'\"',u\"\")\n",
    "\n",
    "\tstrength_dict = dict()\n",
    "\tfor i in range(10):\n",
    "\t\tpair_strength = multiple_replace(str(mine[(i)*6:(i+1)*6]), *replacements)\n",
    "\t\tpair_strength = [st.strip() for st in pair_strength.replace(u'\\xa0', u' ').replace('[', '').replace(']', '').split(\",\")]\n",
    "\t\t# get strength number \n",
    "\t\tnum_strength = 7 - len([lowest for lowest in pair_strength if lowest == \"weak3\"])\n",
    "\n",
    "\t\tstrength_dict[pairs[i].text[:3]] = num_strength\n",
    "\n",
    "\treturn strength_dict\n",
    "\n",
    "strength()"
   ]
  },
  {
   "cell_type": "code",
   "execution_count": 153,
   "metadata": {},
   "outputs": [],
   "source": [
    "start = dt.datetime(2022, 1, 1)\n",
    "end = dt.datetime(2022, 2, 1)\n",
    "\n",
    "get_data = con.get_candles(\"EUR/USD\", period='m15', start=start, end=end)[['bidopen','bidclose','bidhigh','bidlow']]\n",
    "get_data.rename(columns = {'bidopen':'Open', 'bidhigh':'High', 'bidlow': 'Low', 'bidclose': 'Close'}, inplace = True)"
   ]
  },
  {
   "cell_type": "code",
   "execution_count": 69,
   "metadata": {},
   "outputs": [],
   "source": [
    "d = get_data[-25:]['Close']"
   ]
  },
  {
   "cell_type": "code",
   "execution_count": 62,
   "metadata": {},
   "outputs": [
    {
     "data": {
      "text/plain": [
       "date\n",
       "2022-01-31 22:05:00    1.12322\n",
       "2022-01-31 22:10:00    1.12314\n",
       "2022-01-31 22:15:00    1.12311\n",
       "2022-01-31 22:20:00    1.12310\n",
       "2022-01-31 22:25:00    1.12308\n",
       "2022-01-31 22:30:00    1.12307\n",
       "2022-01-31 22:35:00    1.12309\n",
       "2022-01-31 22:40:00    1.12307\n",
       "2022-01-31 22:45:00    1.12307\n",
       "2022-01-31 22:50:00    1.12310\n",
       "2022-01-31 22:55:00    1.12303\n",
       "2022-01-31 23:00:00    1.12309\n",
       "2022-01-31 23:05:00    1.12318\n",
       "2022-01-31 23:10:00    1.12309\n",
       "2022-01-31 23:15:00    1.12299\n",
       "2022-01-31 23:20:00    1.12308\n",
       "2022-01-31 23:25:00    1.12302\n",
       "2022-01-31 23:30:00    1.12302\n",
       "2022-01-31 23:35:00    1.12288\n",
       "2022-01-31 23:40:00    1.12305\n",
       "2022-01-31 23:45:00    1.12306\n",
       "2022-01-31 23:50:00    1.12297\n",
       "2022-01-31 23:55:00    1.12284\n",
       "2022-02-01 00:00:00    1.12292\n",
       "Name: Close, dtype: float64"
      ]
     },
     "execution_count": 62,
     "metadata": {},
     "output_type": "execute_result"
    }
   ],
   "source": [
    "d"
   ]
  },
  {
   "cell_type": "code",
   "execution_count": 148,
   "metadata": {},
   "outputs": [],
   "source": [
    "x = abs((d - d.shift(1))[-24:] * 10 ** 4)"
   ]
  },
  {
   "cell_type": "code",
   "execution_count": 149,
   "metadata": {},
   "outputs": [],
   "source": [
    "def format(time):\n",
    "    return dt.datetime.fromtimestamp(time.timestamp()).strftime(\"%H:%M\")\n",
    "x.index = x.index.map(format)"
   ]
  },
  {
   "cell_type": "code",
   "execution_count": 150,
   "metadata": {},
   "outputs": [],
   "source": [
    "X = x.index.values.tolist()\n",
    "Y = list(map(lambda v: round(v, 1), x.tolist()))"
   ]
  },
  {
   "cell_type": "code",
   "execution_count": 152,
   "metadata": {},
   "outputs": [
    {
     "data": {
      "text/plain": [
       "['01:15',\n",
       " '01:30',\n",
       " '01:45',\n",
       " '02:00',\n",
       " '02:15',\n",
       " '02:30',\n",
       " '02:45',\n",
       " '03:00',\n",
       " '03:15',\n",
       " '03:30',\n",
       " '03:45',\n",
       " '04:00',\n",
       " '04:15',\n",
       " '04:30',\n",
       " '04:45',\n",
       " '05:00',\n",
       " '05:15',\n",
       " '05:30',\n",
       " '05:45',\n",
       " '06:00',\n",
       " '06:15',\n",
       " '06:30',\n",
       " '06:45',\n",
       " '07:00']"
      ]
     },
     "execution_count": 152,
     "metadata": {},
     "output_type": "execute_result"
    },
    {
     "name": "stderr",
     "output_type": "stream",
     "text": [
      "packet queue is empty, aborting\n"
     ]
    }
   ],
   "source": [
    "x.index.tolist()\n",
    "\n"
   ]
  },
  {
   "cell_type": "code",
   "execution_count": 145,
   "metadata": {},
   "outputs": [
    {
     "data": {
      "text/plain": [
       "1643652000.0"
      ]
     },
     "execution_count": 145,
     "metadata": {},
     "output_type": "execute_result"
    }
   ],
   "source": [
    "d.index[0].timestamp()"
   ]
  },
  {
   "cell_type": "code",
   "execution_count": 164,
   "metadata": {},
   "outputs": [],
   "source": [
    "import matplotlib.pyplot as plt"
   ]
  },
  {
   "cell_type": "code",
   "execution_count": 174,
   "metadata": {},
   "outputs": [],
   "source": [
    "data_min, data_max = min(get_data['Close'].value_counts().index), max(get_data['Close'].value_counts().index)"
   ]
  },
  {
   "cell_type": "code",
   "execution_count": 184,
   "metadata": {},
   "outputs": [],
   "source": [
    "import math"
   ]
  },
  {
   "cell_type": "code",
   "execution_count": 209,
   "metadata": {},
   "outputs": [
    {
     "data": {
      "text/plain": [
       "array([111300, 111500, 111700, 111900, 112100, 112300, 112500, 112700,\n",
       "       112900, 113100, 113300, 113500, 113700, 113900, 114100, 114300,\n",
       "       114500, 114700, 114900])"
      ]
     },
     "execution_count": 209,
     "metadata": {},
     "output_type": "execute_result"
    }
   ],
   "source": [
    "INTERVAL = 200\n",
    "\n",
    "clean_data = ((get_data['Close'] * 10 ** 5).apply(math.floor) - (get_data['Close'] * 10 ** 5).apply(math.floor) % INTERVAL + math.floor(INTERVAL / 2)).value_counts().sort_index()\n",
    "clean_data.index.values"
   ]
  },
  {
   "cell_type": "code",
   "execution_count": 207,
   "metadata": {},
   "outputs": [
    {
     "data": {
      "text/plain": [
       "([40,\n",
       "  127,\n",
       "  41,\n",
       "  20,\n",
       "  24,\n",
       "  53,\n",
       "  11,\n",
       "  41,\n",
       "  267,\n",
       "  300,\n",
       "  362,\n",
       "  274,\n",
       "  107,\n",
       "  39,\n",
       "  142,\n",
       "  41,\n",
       "  91,\n",
       "  76,\n",
       "  1],\n",
       " [1.113,\n",
       "  1.115,\n",
       "  1.117,\n",
       "  1.119,\n",
       "  1.121,\n",
       "  1.123,\n",
       "  1.125,\n",
       "  1.127,\n",
       "  1.129,\n",
       "  1.131,\n",
       "  1.133,\n",
       "  1.135,\n",
       "  1.137,\n",
       "  1.139,\n",
       "  1.141,\n",
       "  1.143,\n",
       "  1.145,\n",
       "  1.147,\n",
       "  1.149])"
      ]
     },
     "execution_count": 207,
     "metadata": {},
     "output_type": "execute_result"
    }
   ],
   "source": [
    "X = clean_data.tolist()\n",
    "Y = list(map(lambda p: p / 10 ** 5, clean_data.index.tolist()))\n",
    "\n",
    "X, Y"
   ]
  },
  {
   "cell_type": "code",
   "execution_count": null,
   "metadata": {},
   "outputs": [],
   "source": []
  }
 ],
 "metadata": {
  "interpreter": {
   "hash": "0c920627020ef9b8f7162e908ab1af7da0473c887881c5ac78a1ab325158089b"
  },
  "kernelspec": {
   "display_name": "Python 3.8.12 ('base')",
   "language": "python",
   "name": "python3"
  },
  "language_info": {
   "codemirror_mode": {
    "name": "ipython",
    "version": 3
   },
   "file_extension": ".py",
   "mimetype": "text/x-python",
   "name": "python",
   "nbconvert_exporter": "python",
   "pygments_lexer": "ipython3",
   "version": "3.8.12"
  },
  "orig_nbformat": 4
 },
 "nbformat": 4,
 "nbformat_minor": 2
}
