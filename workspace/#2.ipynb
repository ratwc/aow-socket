{
 "cells": [
  {
   "cell_type": "code",
   "execution_count": 1,
   "metadata": {},
   "outputs": [],
   "source": [
    "import fxcmpy\n",
    "import pandas as pd\n",
    "import datetime as dt\n",
    "import json\n",
    "import ta\n",
    "import warnings"
   ]
  },
  {
   "cell_type": "code",
   "execution_count": 2,
   "metadata": {},
   "outputs": [
    {
     "name": "stdout",
     "output_type": "stream",
     "text": [
      "Connect Successful!\n"
     ]
    }
   ],
   "source": [
    "con = fxcmpy.fxcmpy(access_token=\"d808da394895605e414394e79c1a3c9ffafad862\", log_level='error', server='demo', log_file='log.txt')\n",
    "\n",
    "# return connection\n",
    "if con.is_connected():\n",
    "    print(\"Connect Successful!\")"
   ]
  },
  {
   "cell_type": "code",
   "execution_count": 3,
   "metadata": {},
   "outputs": [],
   "source": [
    "get_data = con.get_candles(\"EUR/USD\", period='m5', number=50)[['bidopen','bidclose','bidhigh','bidlow']]\n",
    "get_data.rename(columns = {'bidopen':'Open', 'bidhigh':'High', 'bidlow': 'Low', 'bidclose': 'Close'}, inplace = True)"
   ]
  },
  {
   "cell_type": "code",
   "execution_count": 30,
   "metadata": {},
   "outputs": [],
   "source": [
    "res_ta = ta.trend.MACD(get_data['Close'], window_fast=12, window_slow=26 ,window_sign=9) # signal line is base and macd line will crossover\n",
    "macd_line, signal_line = res_ta.macd()[-1:].values[0], res_ta.macd_signal()[-1:].values[0]"
   ]
  },
  {
   "cell_type": "code",
   "execution_count": 31,
   "metadata": {},
   "outputs": [
    {
     "data": {
      "text/plain": [
       "('BUY', 'arrow-up')"
      ]
     },
     "execution_count": 31,
     "metadata": {},
     "output_type": "execute_result"
    }
   ],
   "source": [
    "if macd_line > signal_line:\n",
    "    signal, arrow_type = \"BUY\", \"arrow-up\"\n",
    "elif macd_line < signal_line:\n",
    "    signal, arrow_type = \"SELL\", \"arrow-down\"\n",
    "else:\n",
    "    signal, arrow_type = \"NEUTRAL\", \"non-arrow\"\n",
    "\n"
   ]
  },
  {
   "cell_type": "code",
   "execution_count": 35,
   "metadata": {},
   "outputs": [],
   "source": [
    "res_ta = ta.momentum.RSIIndicator(get_data['Close'][-14:], window=14)"
   ]
  },
  {
   "cell_type": "code",
   "execution_count": 36,
   "metadata": {},
   "outputs": [
    {
     "data": {
      "text/plain": [
       "date\n",
       "2022-05-03 10:40:00          NaN\n",
       "2022-05-03 10:45:00          NaN\n",
       "2022-05-03 10:50:00          NaN\n",
       "2022-05-03 10:55:00          NaN\n",
       "2022-05-03 11:00:00          NaN\n",
       "2022-05-03 11:05:00          NaN\n",
       "2022-05-03 11:10:00          NaN\n",
       "2022-05-03 11:15:00          NaN\n",
       "2022-05-03 11:20:00          NaN\n",
       "2022-05-03 11:25:00          NaN\n",
       "2022-05-03 11:30:00          NaN\n",
       "2022-05-03 11:35:00          NaN\n",
       "2022-05-03 11:40:00          NaN\n",
       "2022-05-03 11:45:00    65.117649\n",
       "Name: rsi, dtype: float64"
      ]
     },
     "execution_count": 36,
     "metadata": {},
     "output_type": "execute_result"
    }
   ],
   "source": [
    "res_ta.rsi()"
   ]
  },
  {
   "cell_type": "code",
   "execution_count": 14,
   "metadata": {},
   "outputs": [],
   "source": [
    "indicators_signal = {\n",
    "    \"1\": [\n",
    "        {\n",
    "            \"timeframe\": \"10Min\",\n",
    "            \"value\": 1.05446,\n",
    "            \"signal\": \"SELL\",\n",
    "            \"datetime\": 1651592563000,\n",
    "            \"type\": \"trend\"\n",
    "        },\n",
    "        {\n",
    "            \"timeframe\": \"1H\",\n",
    "            \"value\": 1.05213,\n",
    "            \"signal\": \"BUY\",\n",
    "            \"datetime\": 1651592563000,\n",
    "            \"type\": \"trend\"\n",
    "        }\n",
    "    ],\n",
    "    \"2\": [\n",
    "        {\n",
    "            \"timeframe\": \"10Min\",\n",
    "            \"arrowtype\": \"arrow-down\",\n",
    "            \"value\": 0.00009,\n",
    "            \"signal\": \"SELL\",\n",
    "            \"datetime\": 1651592563000,\n",
    "            \"type\": \"trend\"\n",
    "        },\n",
    "        {\n",
    "            \"timeframe\": \"1H\",\n",
    "            \"arrowtype\": \"arrow-up\",\n",
    "            \"value\": 0.00058,\n",
    "            \"signal\": \"BUY\",\n",
    "            \"datetime\": 1651592563000,\n",
    "            \"type\": \"trend\"\n",
    "        }\n",
    "    ],\n",
    "    \"3\": [\n",
    "        {\n",
    "            \"timeframe\": \"10Min\",\n",
    "            \"value\": 32.5403,\n",
    "            \"signal\": \"NEUTRAL\",\n",
    "            \"datetime\": 1651592563000,\n",
    "            \"type\": \"momentum\"\n",
    "        },\n",
    "        {\n",
    "            \"timeframe\": \"1H\",\n",
    "            \"value\": 54.35956,\n",
    "            \"signal\": \"NEUTRAL\",\n",
    "            \"datetime\": 1651592564000,\n",
    "            \"type\": \"momentum\"\n",
    "        }\n",
    "    ]\n",
    "}"
   ]
  },
  {
   "cell_type": "code",
   "execution_count": 49,
   "metadata": {},
   "outputs": [],
   "source": [
    "return_summary = {}\n",
    "return_summary['timeframe'] = {}\n",
    "return_summary['all'] = {}\n",
    "return_summary['summary'] = {}\n",
    "return_summary['all']['SELL'], return_summary['all']['BUY'] = 0, 0\n",
    "\n",
    "return_summary['trend'] = {}\n",
    "return_summary['trend']['BUY'] = 0\n",
    "return_summary['trend']['SELL'] = 0\n",
    "return_summary['trend']['NEUTRAL'] = 0\n",
    "\n",
    "return_summary['momentum'] = {}\n",
    "return_summary['momentum']['OVERBOUGHT'] = 0\n",
    "return_summary['momentum']['OVERSOLD'] = 0\n",
    "return_summary['momentum']['NEUTRAL'] = 0\n",
    "for indicator in indicators_signal.keys():\n",
    "\n",
    "    for tf in indicators_signal[indicator]:\n",
    "\n",
    "        if tf['timeframe'] not in return_summary['timeframe']:\n",
    "            return_summary['timeframe'][tf['timeframe']] = {}\n",
    "            # initial trend \n",
    "            return_summary['timeframe'][tf['timeframe']]['trend'] = {}\n",
    "            return_summary['timeframe'][tf['timeframe']]['trend']['BUY'] = 0\n",
    "            return_summary['timeframe'][tf['timeframe']]['trend']['SELL'] = 0\n",
    "            return_summary['timeframe'][tf['timeframe']]['trend']['NEUTRAL'] = 0\n",
    "            # initial momentum\n",
    "            return_summary['timeframe'][tf['timeframe']]['momentum'] = {}\n",
    "            return_summary['timeframe'][tf['timeframe']]['momentum']['OVERBOUGHT'] = 0\n",
    "            return_summary['timeframe'][tf['timeframe']]['momentum']['OVERSOLD'] = 0\n",
    "            return_summary['timeframe'][tf['timeframe']]['momentum']['NEUTRAL'] = 0\n",
    "\n",
    "        if tf['type'] == 'trend':\n",
    "            return_summary['timeframe'][tf['timeframe']]['trend'][tf['signal']] += 1\n",
    "            return_summary['trend'][tf['signal']] += 1\n",
    "        elif tf['type'] == 'momentum':\n",
    "            return_summary['timeframe'][tf['timeframe']]['momentum'][tf['signal']] += 1\n",
    "            return_summary['momentum'][tf['signal']] += 1\n",
    "\n",
    "        if tf['signal'] in ['BUY', 'OVERSOLD']: return_summary['all']['BUY'] += 1\n",
    "        elif tf['signal'] in ['SELL', 'OVERBOUGHT']: return_summary['all']['SELL'] += 1\n",
    "    \n",
    "if (return_summary['all']['BUY'] + return_summary['all']['SELL']) != 0:\n",
    "    return_summary['summary']['BUY'] = return_summary['all']['BUY'] * 100 / (return_summary['all']['BUY'] + return_summary['all']['SELL'])\n",
    "    return_summary['summary']['SELL'] = return_summary['all']['SELL'] * 100 / (return_summary['all']['BUY'] + return_summary['all']['SELL'])\n",
    "else :\n",
    "    return_summary['summary']['BUY'] = 0\n",
    "    return_summary['summary']['SELL'] = 0"
   ]
  },
  {
   "cell_type": "code",
   "execution_count": 50,
   "metadata": {},
   "outputs": [
    {
     "data": {
      "text/plain": [
       "{'timeframe': {'10Min': {'trend': {'BUY': 0, 'SELL': 2, 'NEUTRAL': 0},\n",
       "   'momentum': {'OVERBOUGHT': 0, 'OVERSOLD': 0, 'NEUTRAL': 1}},\n",
       "  '1H': {'trend': {'BUY': 2, 'SELL': 0, 'NEUTRAL': 0},\n",
       "   'momentum': {'OVERBOUGHT': 0, 'OVERSOLD': 0, 'NEUTRAL': 1}}},\n",
       " 'all': {'SELL': 2, 'BUY': 2},\n",
       " 'summary': {'BUY': 50.0, 'SELL': 50.0},\n",
       " 'trend': {'BUY': 2, 'SELL': 2, 'NEUTRAL': 0},\n",
       " 'momentum': {'OVERBOUGHT': 0, 'OVERSOLD': 0, 'NEUTRAL': 2}}"
      ]
     },
     "execution_count": 50,
     "metadata": {},
     "output_type": "execute_result"
    }
   ],
   "source": [
    "return_summary"
   ]
  },
  {
   "cell_type": "code",
   "execution_count": 29,
   "metadata": {},
   "outputs": [],
   "source": [
    "high, low, close = get_data['High'], get_data['Low'], get_data['Close']\n"
   ]
  },
  {
   "cell_type": "code",
   "execution_count": 23,
   "metadata": {},
   "outputs": [
    {
     "data": {
      "text/plain": [
       "1.0540171746493372"
      ]
     },
     "execution_count": 23,
     "metadata": {},
     "output_type": "execute_result"
    }
   ],
   "source": [
    "\n",
    "res_ta = ta.trend.PSARIndicator(high, low, close, step=float(0.02), max_step=float(0.2))\n",
    "ta_value = res_ta.psar()[-1:].values[0]\n",
    "ta_value"
   ]
  },
  {
   "cell_type": "code",
   "execution_count": 19,
   "metadata": {},
   "outputs": [],
   "source": [
    "warnings.filterwarnings(\"ignore\")"
   ]
  },
  {
   "cell_type": "code",
   "execution_count": 37,
   "metadata": {},
   "outputs": [],
   "source": [
    "res_ta = ta.trend.CCIIndicator(high, low, close, window=int(20), constant=float(0.015))\n",
    "ta_value = res_ta.cci()[-1:].values[0]"
   ]
  },
  {
   "cell_type": "code",
   "execution_count": 39,
   "metadata": {},
   "outputs": [],
   "source": [
    "# res_ta.cci()"
   ]
  },
  {
   "cell_type": "code",
   "execution_count": 40,
   "metadata": {},
   "outputs": [],
   "source": [
    "res_ta = ta.momentum.StochasticOscillator(high, low, close, window=int(14), smooth_window=int(3))"
   ]
  },
  {
   "cell_type": "code",
   "execution_count": 44,
   "metadata": {},
   "outputs": [
    {
     "data": {
      "text/plain": [
       "(date\n",
       " 2022-05-04 15:20:00    91.950464\n",
       " Name: stoch_k, dtype: float64,\n",
       " date\n",
       " 2022-05-04 15:20:00    93.014905\n",
       " Name: stoch_k_signal, dtype: float64)"
      ]
     },
     "execution_count": 44,
     "metadata": {},
     "output_type": "execute_result"
    }
   ],
   "source": [
    "indicator_value, indicators_signal = res_ta.stoch()[-1:], res_ta.stoch_signal()[-1:]\n",
    "indicator_value, indicators_signal"
   ]
  },
  {
   "cell_type": "code",
   "execution_count": 48,
   "metadata": {},
   "outputs": [
    {
     "data": {
      "text/plain": [
       "-8.049535603719619"
      ]
     },
     "execution_count": 48,
     "metadata": {},
     "output_type": "execute_result"
    }
   ],
   "source": [
    "res_ta = ta.momentum.WilliamsRIndicator(high, low, close, lbp=14)\n",
    "ta_value = res_ta.williams_r()[-1:].values[0]\n",
    "ta_value"
   ]
  },
  {
   "cell_type": "code",
   "execution_count": 3,
   "metadata": {},
   "outputs": [
    {
     "name": "stdout",
     "output_type": "stream",
     "text": [
      "W%R calculation error on > \n"
     ]
    }
   ],
   "source": [
    "print(\"W%R calculation error on > \")\n",
    "import math"
   ]
  },
  {
   "cell_type": "code",
   "execution_count": 14,
   "metadata": {},
   "outputs": [],
   "source": [
    "start = dt.datetime(2022, 5, 1)\n",
    "end = dt.datetime(2022, 5, 2)\n",
    "data = con.get_candles(\"EUR/USD\", period='m5', start=start, end=end)[['bidopen','bidclose','bidhigh','bidlow']]"
   ]
  },
  {
   "cell_type": "code",
   "execution_count": 17,
   "metadata": {},
   "outputs": [
    {
     "data": {
      "text/plain": [
       "array([1651439100000000000, 1651439400000000000, 1651439700000000000,\n",
       "       1651440000000000000, 1651440300000000000, 1651440600000000000,\n",
       "       1651440900000000000, 1651441200000000000, 1651442100000000000,\n",
       "       1651442400000000000, 1651442700000000000, 1651443000000000000,\n",
       "       1651443300000000000, 1651443600000000000, 1651443900000000000,\n",
       "       1651444200000000000, 1651444500000000000, 1651444800000000000,\n",
       "       1651445100000000000, 1651445400000000000, 1651446000000000000,\n",
       "       1651446300000000000, 1651446600000000000, 1651446900000000000,\n",
       "       1651447200000000000, 1651447500000000000, 1651447800000000000,\n",
       "       1651448100000000000, 1651448400000000000, 1651448700000000000,\n",
       "       1651449000000000000, 1651449300000000000, 1651449600000000000])"
      ]
     },
     "execution_count": 17,
     "metadata": {},
     "output_type": "execute_result"
    }
   ],
   "source": [
    "data.index.view(int) ## - 162000, not more than 172800"
   ]
  },
  {
   "cell_type": "code",
   "execution_count": 23,
   "metadata": {},
   "outputs": [
    {
     "data": {
      "text/plain": [
       "False"
      ]
     },
     "execution_count": 23,
     "metadata": {},
     "output_type": "execute_result"
    }
   ],
   "source": [
    "import datetime as dt\n",
    "\n",
    "is_open = (math.floor(dt.datetime.utcnow().timestamp()) - 162000) % 604800 >= 172800\n",
    "is_open"
   ]
  },
  {
   "cell_type": "code",
   "execution_count": null,
   "metadata": {},
   "outputs": [],
   "source": []
  }
 ],
 "metadata": {
  "interpreter": {
   "hash": "0c920627020ef9b8f7162e908ab1af7da0473c887881c5ac78a1ab325158089b"
  },
  "kernelspec": {
   "display_name": "Python 3.8.12 ('base')",
   "language": "python",
   "name": "python3"
  },
  "language_info": {
   "codemirror_mode": {
    "name": "ipython",
    "version": 3
   },
   "file_extension": ".py",
   "mimetype": "text/x-python",
   "name": "python",
   "nbconvert_exporter": "python",
   "pygments_lexer": "ipython3",
   "version": "3.8.12"
  },
  "orig_nbformat": 4
 },
 "nbformat": 4,
 "nbformat_minor": 2
}
