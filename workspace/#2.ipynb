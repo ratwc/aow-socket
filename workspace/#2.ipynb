{
 "cells": [
  {
   "cell_type": "code",
   "execution_count": 6,
   "metadata": {},
   "outputs": [],
   "source": [
    "import fxcmpy\n",
    "import pandas as pd\n",
    "import datetime as dt\n",
    "import json\n",
    "import ta"
   ]
  },
  {
   "cell_type": "code",
   "execution_count": 2,
   "metadata": {},
   "outputs": [
    {
     "name": "stdout",
     "output_type": "stream",
     "text": [
      "Connect Successful!\n"
     ]
    }
   ],
   "source": [
    "con = fxcmpy.fxcmpy(access_token=\"d808da394895605e414394e79c1a3c9ffafad862\", log_level='error', server='demo', log_file='log.txt')\n",
    "\n",
    "# return connection\n",
    "if con.is_connected():\n",
    "    print(\"Connect Successful!\")"
   ]
  },
  {
   "cell_type": "code",
   "execution_count": 4,
   "metadata": {},
   "outputs": [],
   "source": [
    "get_data = con.get_candles(\"EUR/USD\", period='m5', number=50)[['bidopen','bidclose','bidhigh','bidlow']]\n",
    "get_data.rename(columns = {'bidopen':'Open', 'bidhigh':'High', 'bidlow': 'Low', 'bidclose': 'Close'}, inplace = True)"
   ]
  },
  {
   "cell_type": "code",
   "execution_count": 30,
   "metadata": {},
   "outputs": [],
   "source": [
    "res_ta = ta.trend.MACD(get_data['Close'], window_fast=12, window_slow=26 ,window_sign=9) # signal line is base and macd line will crossover\n",
    "macd_line, signal_line = res_ta.macd()[-1:].values[0], res_ta.macd_signal()[-1:].values[0]"
   ]
  },
  {
   "cell_type": "code",
   "execution_count": 31,
   "metadata": {},
   "outputs": [
    {
     "data": {
      "text/plain": [
       "('BUY', 'arrow-up')"
      ]
     },
     "execution_count": 31,
     "metadata": {},
     "output_type": "execute_result"
    }
   ],
   "source": [
    "if macd_line > signal_line:\n",
    "    signal, arrow_type = \"BUY\", \"arrow-up\"\n",
    "elif macd_line < signal_line:\n",
    "    signal, arrow_type = \"SELL\", \"arrow-down\"\n",
    "else:\n",
    "    signal, arrow_type = \"NEUTRAL\", \"non-arrow\"\n",
    "\n"
   ]
  },
  {
   "cell_type": "code",
   "execution_count": 35,
   "metadata": {},
   "outputs": [],
   "source": [
    "res_ta = ta.momentum.RSIIndicator(get_data['Close'][-14:], window=14)"
   ]
  },
  {
   "cell_type": "code",
   "execution_count": 36,
   "metadata": {},
   "outputs": [
    {
     "data": {
      "text/plain": [
       "date\n",
       "2022-05-03 10:40:00          NaN\n",
       "2022-05-03 10:45:00          NaN\n",
       "2022-05-03 10:50:00          NaN\n",
       "2022-05-03 10:55:00          NaN\n",
       "2022-05-03 11:00:00          NaN\n",
       "2022-05-03 11:05:00          NaN\n",
       "2022-05-03 11:10:00          NaN\n",
       "2022-05-03 11:15:00          NaN\n",
       "2022-05-03 11:20:00          NaN\n",
       "2022-05-03 11:25:00          NaN\n",
       "2022-05-03 11:30:00          NaN\n",
       "2022-05-03 11:35:00          NaN\n",
       "2022-05-03 11:40:00          NaN\n",
       "2022-05-03 11:45:00    65.117649\n",
       "Name: rsi, dtype: float64"
      ]
     },
     "execution_count": 36,
     "metadata": {},
     "output_type": "execute_result"
    }
   ],
   "source": [
    "res_ta.rsi()"
   ]
  },
  {
   "cell_type": "code",
   "execution_count": 6,
   "metadata": {},
   "outputs": [],
   "source": [
    "indicators_signal = {\n",
    "    \"1\": [\n",
    "        {\n",
    "            \"timeframe\": \"10Min\",\n",
    "            \"value\": 1.05446,\n",
    "            \"signal\": \"SELL\",\n",
    "            \"datetime\": 1651592563000,\n",
    "            \"type\": \"trend\"\n",
    "        },\n",
    "        {\n",
    "            \"timeframe\": \"1H\",\n",
    "            \"value\": 1.05213,\n",
    "            \"signal\": \"BUY\",\n",
    "            \"datetime\": 1651592563000,\n",
    "            \"type\": \"trend\"\n",
    "        }\n",
    "    ],\n",
    "    \"2\": [\n",
    "        {\n",
    "            \"timeframe\": \"10Min\",\n",
    "            \"arrowtype\": \"arrow-down\",\n",
    "            \"value\": 0.00009,\n",
    "            \"signal\": \"SELL\",\n",
    "            \"datetime\": 1651592563000,\n",
    "            \"type\": \"trend\"\n",
    "        },\n",
    "        {\n",
    "            \"timeframe\": \"1H\",\n",
    "            \"arrowtype\": \"arrow-up\",\n",
    "            \"value\": 0.00058,\n",
    "            \"signal\": \"BUY\",\n",
    "            \"datetime\": 1651592563000,\n",
    "            \"type\": \"trend\"\n",
    "        }\n",
    "    ],\n",
    "    \"3\": [\n",
    "        {\n",
    "            \"timeframe\": \"10Min\",\n",
    "            \"value\": 32.5403,\n",
    "            \"signal\": \"NEUTRAL\",\n",
    "            \"datetime\": 1651592563000,\n",
    "            \"type\": \"momentum\"\n",
    "        },\n",
    "        {\n",
    "            \"timeframe\": \"1H\",\n",
    "            \"value\": 54.35956,\n",
    "            \"signal\": \"NEUTRAL\",\n",
    "            \"datetime\": 1651592564000,\n",
    "            \"type\": \"momentum\"\n",
    "        }\n",
    "    ]\n",
    "}"
   ]
  },
  {
   "cell_type": "code",
   "execution_count": 7,
   "metadata": {},
   "outputs": [],
   "source": [
    "return_summary = {}\n",
    "return_summary['timeframe'] = {}\n",
    "return_summary['all'] = {}\n",
    "return_summary['all']['SELL'], return_summary['all']['BUY'] = 0, 0\n",
    "for indicator in indicators_signal.keys():\n",
    "\n",
    "    for tf in indicators_signal[indicator]:\n",
    "\n",
    "        if tf['timeframe'] not in return_summary['timeframe']:\n",
    "            return_summary['timeframe'][tf['timeframe']] = {}\n",
    "            # initial trend \n",
    "            return_summary['trend'] = {}\n",
    "            return_summary['timeframe'][tf['timeframe']]['trend'] = {}\n",
    "            return_summary['timeframe'][tf['timeframe']]['trend']['BUY'], return_summary['trend']['BUY'] = 0, 0\n",
    "            return_summary['timeframe'][tf['timeframe']]['trend']['SELL'], return_summary['trend']['SELL'] = 0, 0\n",
    "            return_summary['timeframe'][tf['timeframe']]['trend']['NEUTRAL'], return_summary['trend']['NEUTRAL'] = 0, 0\n",
    "            # initial momentum\n",
    "            return_summary['momentum'] = {}\n",
    "            return_summary['timeframe'][tf['timeframe']]['momentum'] = {}\n",
    "            return_summary['timeframe'][tf['timeframe']]['momentum']['OVERBOUGHT'], return_summary['momentum']['OVERBOUGHT'] = 0, 0\n",
    "            return_summary['timeframe'][tf['timeframe']]['momentum']['OVERSOLD'], return_summary['momentum']['OVERSOLD'] = 0, 0\n",
    "            return_summary['timeframe'][tf['timeframe']]['momentum']['NEUTRAL'], return_summary['momentum']['NEUTRAL'] = 0, 0\n",
    "\n",
    "        if tf['type'] == 'trend':\n",
    "            return_summary['timeframe'][tf['timeframe']]['trend'][tf['signal']] += 1\n",
    "            return_summary['trend'][tf['signal']] += 1\n",
    "        elif tf['type'] == 'momentum':\n",
    "            return_summary['timeframe'][tf['timeframe']]['momentum'][tf['signal']] += 1\n",
    "            return_summary['momentum'][tf['signal']] += 1\n",
    "\n",
    "        if tf['signal'] in ['BUY', 'OVERSOLD']: return_summary['all']['BUY'] += 1\n",
    "        elif tf['signal'] in ['SELL', 'OVERBOUGHT']: return_summary['all']['SELL'] += 1\n",
    "        \n",
    "return_summary['summary'] = {}\n",
    "if (return_summary['all']['BUY'] + return_summary['all']['SELL']) != 0:\n",
    "    return_summary['summary']['BUY'] = return_summary['all']['BUY'] * 100 / (return_summary['all']['BUY'] + return_summary['all']['SELL'])\n",
    "    return_summary['summary']['SELL'] = return_summary['all']['SELL'] * 100 / (return_summary['all']['BUY'] + return_summary['all']['SELL'])\n",
    "else :\n",
    "    return_summary['summary']['BUY'] = 0\n",
    "    return_summary['summary']['SELL'] = 0"
   ]
  },
  {
   "cell_type": "code",
   "execution_count": 8,
   "metadata": {},
   "outputs": [
    {
     "data": {
      "text/plain": [
       "{'timeframe': {'10Min': {'trend': {'BUY': 0, 'SELL': 2, 'NEUTRAL': 0},\n",
       "   'momentum': {'OVERBOUGHT': 0, 'OVERSOLD': 0, 'NEUTRAL': 1}},\n",
       "  '1H': {'trend': {'BUY': 2, 'SELL': 0, 'NEUTRAL': 0},\n",
       "   'momentum': {'OVERBOUGHT': 0, 'OVERSOLD': 0, 'NEUTRAL': 1}}},\n",
       " 'all': {'SELL': 2, 'BUY': 2},\n",
       " 'trend': {'BUY': 2, 'SELL': 1, 'NEUTRAL': 0},\n",
       " 'momentum': {'OVERBOUGHT': 0, 'OVERSOLD': 0, 'NEUTRAL': 2},\n",
       " 'summary': {'BUY': 50.0, 'SELL': 50.0}}"
      ]
     },
     "execution_count": 8,
     "metadata": {},
     "output_type": "execute_result"
    }
   ],
   "source": [
    "return_summary"
   ]
  },
  {
   "cell_type": "code",
   "execution_count": null,
   "metadata": {},
   "outputs": [],
   "source": []
  }
 ],
 "metadata": {
  "interpreter": {
   "hash": "0c920627020ef9b8f7162e908ab1af7da0473c887881c5ac78a1ab325158089b"
  },
  "kernelspec": {
   "display_name": "Python 3.8.12 ('base')",
   "language": "python",
   "name": "python3"
  },
  "language_info": {
   "codemirror_mode": {
    "name": "ipython",
    "version": 3
   },
   "file_extension": ".py",
   "mimetype": "text/x-python",
   "name": "python",
   "nbconvert_exporter": "python",
   "pygments_lexer": "ipython3",
   "version": "3.8.12"
  },
  "orig_nbformat": 4
 },
 "nbformat": 4,
 "nbformat_minor": 2
}
